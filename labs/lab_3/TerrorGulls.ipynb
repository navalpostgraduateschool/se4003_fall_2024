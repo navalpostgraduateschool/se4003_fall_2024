{
 "cells": [
  {
   "cell_type": "code",
   "execution_count": 5,
   "id": "692be0e3-8a71-4b03-b101-37e85da47e91",
   "metadata": {},
   "outputs": [
    {
     "ename": "SyntaxError",
     "evalue": "invalid syntax (1890211479.py, line 3)",
     "output_type": "error",
     "traceback": [
      "\u001b[1;36m  Cell \u001b[1;32mIn[5], line 3\u001b[1;36m\u001b[0m\n\u001b[1;33m    *Objectives*\u001b[0m\n\u001b[1;37m                ^\u001b[0m\n\u001b[1;31mSyntaxError\u001b[0m\u001b[1;31m:\u001b[0m invalid syntax\n"
     ]
    }
   ],
   "source": [
    "## Lab 03_Terror Gulls: *_DEW Investigation_* \n",
    "\n",
    "*Objectives*\n",
    "-assessing energy demands\n",
    "-storage requirements for directed energy weapons aboard amphibious assault ships\n",
    "-need to defend against aerial and surface drones using directed energy weapons that\n",
    "generate pulse power loads\n"
   ]
  },
  {
   "cell_type": "raw",
   "id": "3321fba9-e4e4-4a70-bbfb-adb004a9e03e",
   "metadata": {},
   "source": []
  },
  {
   "cell_type": "code",
   "execution_count": 6,
   "id": "e533aa6f-708a-4592-9f2a-83348e9b22fb",
   "metadata": {},
   "outputs": [
    {
     "ename": "SyntaxError",
     "evalue": "invalid syntax (3799016520.py, line 1)",
     "output_type": "error",
     "traceback": [
      "\u001b[1;36m  Cell \u001b[1;32mIn[6], line 1\u001b[1;36m\u001b[0m\n\u001b[1;33m    Sprint Backlog:\u001b[0m\n\u001b[1;37m           ^\u001b[0m\n\u001b[1;31mSyntaxError\u001b[0m\u001b[1;31m:\u001b[0m invalid syntax\n"
     ]
    }
   ],
   "source": [
    "Sprint Backlog:  \n",
    "\n",
    "Member \n",
    "\n",
    "Task \n",
    "\n",
    "Miron Lev \n",
    "\n",
    "Gather data on the power required to disable drones using directed energy weapons. \n",
    "\n",
    "Joe Bahleda \n",
    "\n",
    "Research drone sizes used in recent military operations. \n",
    "\n",
    "Bobby Gilbert \n",
    "\n",
    "Identify recharge times for the energy weapon systems. \n",
    "\n"
   ]
  },
  {
   "cell_type": "code",
   "execution_count": null,
   "id": "ae0f67c8-1bec-49d6-a19b-d52cefb78ee5",
   "metadata": {},
   "outputs": [],
   "source": []
  }
 ],
 "metadata": {
  "kernelspec": {
   "display_name": "Python 3 (ipykernel)",
   "language": "python",
   "name": "python3"
  },
  "language_info": {
   "codemirror_mode": {
    "name": "ipython",
    "version": 3
   },
   "file_extension": ".py",
   "mimetype": "text/x-python",
   "name": "python",
   "nbconvert_exporter": "python",
   "pygments_lexer": "ipython3",
   "version": "3.13.0"
  }
 },
 "nbformat": 4,
 "nbformat_minor": 5
}
