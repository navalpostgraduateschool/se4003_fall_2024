{
 "cells": [
  {
   "cell_type": "markdown",
   "id": "97820342-9b3c-47c6-b3f3-68456864693b",
   "metadata": {},
   "source": [
    "# Lab 03: Lasers to Kill Sharks\n",
    "This lab investigates the feasibility of designing a directed energy weapon (DEW, or a laser) to shoot down enemey drones in purpose of protecting friendly ground and naval forces.\n",
    "\n",
    "**Objectives**:\n",
    "- Determine likely drone threats that DEWs could defeat\n",
    "- Determine power load requirements for different engagement models\n",
    "- Analyze operational impacts such as shot count, recharge time, and breaking points for the system\n",
    "  \n",
    "*Rapid kill capability and high kill probability* is **critical** for an effective DEW employment against threat drone targets.\n"
   ]
  },
  {
   "cell_type": "markdown",
   "id": "abf664d9-40ef-41fb-9dcd-c47b7aa5b27e",
   "metadata": {},
   "source": [
    "**Team Members**:\n",
    "- Scrum Master: Hank C. Responsible for keeping the team on task and resolving issues.\n",
    "- Domain Expert:  Jake R. The go-to person for knowledge about directed energy weapons and Navy ship power systems.\n",
    "- Developer: Steve L. Gather data, conduct analysis, and design solutions.\n",
    "- Tester: Siddiq H. Ensures the accuracy and quality of the work, and checks for any design issues.\n",
    "  \n",
    "| Specification    | Details                                                                                       |\n",
    "|-------------------|-----------------------------------------------------------------------------------------------|\n",
    "| **Laser Power**   | 100 kW to 300 kW (higher for drones with heat-resistant or reflective coatings)             |\n",
    "| **Dwell Time**    | 10 to 15 seconds to effectively disable the drone                                           |\n",
    "| **Size**          | Not explicitly stated; typically large due to power generation, energy storage, and cooling needs |\n",
    "| **Range**         | Effectiveness decreases with distance; higher power required for longer ranges               |\n",
    "| **Targeting**     | Focus on critical areas:                                                                    |\n",
    "|                   | - Sensitive electronics                                                                       |\n",
    "|                   | - Engines                                                                                     |\n",
    "|                   | - Fuel tanks                                                                                  |\n",
    "|                   | - Wings or body (to disrupt aerodynamics)                                                    |\n",
    "| **Examples**      | - **Helios Laser System**: 60 kW, effective against small/medium drones (1-2 km range)     |\n",
    "|                   | - **ATHENA**: 30 kW fiber laser; higher power (100 kW) for larger drones (10 seconds)       |\n",
    "|                   | - **LWSD**: 150 kW, designed for larger drones; 10-15 seconds to engage                      |\n",
    "\n",
    "                                        "
   ]
  },
  {
   "cell_type": "markdown",
   "id": "c61d33ae-fbf1-4802-88c2-18f89ed42ec6",
   "metadata": {},
   "source": [
    "**Additional Questions**\n",
    "- What are the expected atmospheric conditions in which the laser system will be operated? Understanding factors like rain, fog, dust, and temperature will help optimize the software for different environments (for example, what anticipated climate for a specific region, or expecting worldwide deployment).\n",
    " \n",
    "- What level of automation does the user desire for the laser system? Would they prefer manual control, semi-autonomous operation, or fully autonomous targeting and firing?\n",
    " \n",
    "- What specific data points and feedback mechanisms are most critical for the user to monitor during laser operation? This might include target information, laser status, power levels, cooling system performance, and recharge status."
   ]
  },
  {
   "cell_type": "code",
   "execution_count": null,
   "id": "34deb801-fea6-45b1-aa24-9077e25eb53c",
   "metadata": {},
   "outputs": [],
   "source": []
  }
 ],
 "metadata": {
  "kernelspec": {
   "display_name": "Python 3 (ipykernel)",
   "language": "python",
   "name": "python3"
  },
  "language_info": {
   "codemirror_mode": {
    "name": "ipython",
    "version": 3
   },
   "file_extension": ".py",
   "mimetype": "text/x-python",
   "name": "python",
   "nbconvert_exporter": "python",
   "pygments_lexer": "ipython3",
   "version": "3.13.0"
  }
 },
 "nbformat": 4,
 "nbformat_minor": 5
}
