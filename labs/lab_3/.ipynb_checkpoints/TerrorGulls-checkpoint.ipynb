{
 "cells": [
  {
   "cell_type": "code",
   "execution_count": 11,
   "id": "692be0e3-8a71-4b03-b101-37e85da47e91",
   "metadata": {},
   "outputs": [
    {
     "ename": "ModuleNotFoundError",
     "evalue": "No module named 'pyfiglet'",
     "output_type": "error",
     "traceback": [
      "\u001b[1;31m---------------------------------------------------------------------------\u001b[0m",
      "\u001b[1;31mModuleNotFoundError\u001b[0m                       Traceback (most recent call last)",
      "Cell \u001b[1;32mIn[11], line 1\u001b[0m\n\u001b[1;32m----> 1\u001b[0m \u001b[38;5;28;01mimport\u001b[39;00m \u001b[38;5;21;01mpyfiglet\u001b[39;00m\n\u001b[0;32m      3\u001b[0m \u001b[38;5;66;03m# Define the title text\u001b[39;00m\n\u001b[0;32m      4\u001b[0m title \u001b[38;5;241m=\u001b[39m \u001b[38;5;124m\"\u001b[39m\u001b[38;5;124mLab 03_Terror Gulls: DEW Investigation\u001b[39m\u001b[38;5;124m\"\u001b[39m\n",
      "\u001b[1;31mModuleNotFoundError\u001b[0m: No module named 'pyfiglet'"
     ]
    }
   ],
   "source": [
    "import pyfiglet\n",
    "\n",
    "# Define the title text\n",
    "title = \"Lab 03_Terror Gulls: DEW Investigation\"\n",
    "\n",
    "# Generate ASCII art for the title\n",
    "ascii_title = pyfiglet.figlet_format(title, font=\"slant\")\n",
    "\n",
    "# Print the ASCII title\n",
    "print(ascii_title)\n",
    "\n",
    "# Define and print objectives with bullet points\n",
    "objectives = \"\"\"\n",
    "Objectives:\n",
    "    - Assessing energy demands\n",
    "    - Storage requirements for directed energy weapons aboard amphibious assault ships\n",
    "    - Need to defend against aerial and surface drones using directed energy weapons that generate pulse power loads\n",
    "\"\"\"\n",
    "\n",
    "print(objectives)\n",
    "\n"
   ]
  },
  {
   "cell_type": "raw",
   "id": "3321fba9-e4e4-4a70-bbfb-adb004a9e03e",
   "metadata": {},
   "source": []
  },
  {
   "cell_type": "code",
   "execution_count": 7,
   "id": "e533aa6f-708a-4592-9f2a-83348e9b22fb",
   "metadata": {},
   "outputs": [
    {
     "name": "stdout",
     "output_type": "stream",
     "text": [
      "       Member                                                                               Task\n",
      "    Miron Lev Gather data on the power required to disable drones using directed energy weapons.\n",
      "    Miron Lev                                             Gather Data on common ranges and times\n",
      "    Miron Lev                                        Gather data on Batteries and recharge times\n",
      "  Joe Bahleda                           Research drone sizes used in recent military operations.\n",
      "Bobby Gilbert                             Identify recharge times for the energy weapon systems.\n"
     ]
    }
   ],
   "source": [
    "import pandas as pd\n",
    "\n",
    "# Define the Sprint Backlog data\n",
    "data = {\n",
    "    'Member': ['Miron Lev', 'Miron Lev', 'Miron Lev', 'Joe Bahleda', 'Bobby Gilbert'],\n",
    "    'Task': [\n",
    "        'Gather data on the power required to disable drones using directed energy weapons.',\n",
    "        'Gather Data on common ranges and times',\n",
    "        'Gather data on Batteries and recharge times',\n",
    "        'Research drone sizes used in recent military operations.',\n",
    "        'Identify recharge times for the energy weapon systems.'\n",
    "    ]\n",
    "}\n",
    "\n",
    "# Create the DataFrame\n",
    "df = pd.DataFrame(data)\n",
    "\n",
    "# Display the DataFrame as a table\n",
    "print(df.to_string(index=False))\n"
   ]
  },
  {
   "cell_type": "code",
   "execution_count": null,
   "id": "ae0f67c8-1bec-49d6-a19b-d52cefb78ee5",
   "metadata": {},
   "outputs": [],
   "source": []
  },
  {
   "cell_type": "code",
   "execution_count": null,
   "id": "e4e00af4-6e60-486f-ae68-28eade22fb05",
   "metadata": {},
   "outputs": [],
   "source": []
  }
 ],
 "metadata": {
  "kernelspec": {
   "display_name": "Python 3 (ipykernel)",
   "language": "python",
   "name": "python3"
  },
  "language_info": {
   "codemirror_mode": {
    "name": "ipython",
    "version": 3
   },
   "file_extension": ".py",
   "mimetype": "text/x-python",
   "name": "python",
   "nbconvert_exporter": "python",
   "pygments_lexer": "ipython3",
   "version": "3.13.0"
  }
 },
 "nbformat": 4,
 "nbformat_minor": 5
}
