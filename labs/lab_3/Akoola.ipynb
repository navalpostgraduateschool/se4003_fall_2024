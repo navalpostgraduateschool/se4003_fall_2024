{
 "cells": [
  {
   "cell_type": "markdown",
   "id": "97820342-9b3c-47c6-b3f3-68456864693b",
   "metadata": {},
   "source": [
    "# Lab 03: Lasers to Kill Sharks\n",
    "This lab investigates the feasibility of designing a directed energy weapon (DEW, or a laser) to shoot down enemey drones in purpose of protecting friendly ground and naval forces.\n",
    "\n",
    "**Objectives**:\n",
    "- Determine likely drone threats that DEWs could defeat\n",
    "- Determine power load requirements for different engagement models\n",
    "- Analyze operational impacts such as shot count, recharge time, and breaking points for the system\n",
    "  \n",
    "*Rapid kill capability and high kill probability* is **critical** for an effective DEW employment against threat drone targets.\n"
   ]
  },
  {
   "cell_type": "markdown",
   "id": "abf664d9-40ef-41fb-9dcd-c47b7aa5b27e",
   "metadata": {},
   "source": [
    "**Team Members**:\n",
    "- Scrum Master: Hank C. Responsible for keeping the team on task and resolving issues.\n",
    "- Domain Expert:  Jake R. The go-to person for knowledge about directed energy weapons and Navy ship power systems.\n",
    "- Developer: Steve L. Gather data, conduct analysis, and design solutions.\n",
    "- Tester: Siddiq H. Ensures the accuracy and quality of the work, and checks for any design issues."
   ]
  },
  {
   "cell_type": "code",
   "execution_count": null,
   "id": "64457146-636c-43e3-bebc-ce1ad5ccdd0d",
   "metadata": {},
   "outputs": [],
   "source": []
  }
 ],
 "metadata": {
  "kernelspec": {
   "display_name": "Python 3 (ipykernel)",
   "language": "python",
   "name": "python3"
  },
  "language_info": {
   "codemirror_mode": {
    "name": "ipython",
    "version": 3
   },
   "file_extension": ".py",
   "mimetype": "text/x-python",
   "name": "python",
   "nbconvert_exporter": "python",
   "pygments_lexer": "ipython3",
   "version": "3.13.0"
  }
 },
 "nbformat": 4,
 "nbformat_minor": 5
}
