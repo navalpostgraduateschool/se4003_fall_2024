{
 "cells": [
  {
   "cell_type": "code",
   "execution_count": 1,
   "id": "3feb262b-3079-49cc-b383-77a74727a534",
   "metadata": {},
   "outputs": [
    {
     "data": {
      "text/plain": [
       "'2.2.3'"
      ]
     },
     "execution_count": 1,
     "metadata": {},
     "output_type": "execute_result"
    }
   ],
   "source": [
    "import pandas as pd\n",
    "pd.__version__\n"
   ]
  },
  {
   "cell_type": "markdown",
   "id": "edcff02b-84de-4bc1-ad94-9c02d4a5c761",
   "metadata": {},
   "source": [
    "## This is lab 1\n",
    "\n",
    "The lab is about microgrid data visualization\n",
    "\n",
    "Below I will show analyzed power *data* **visualized**\n",
    "\n",
    "**Objectives**:\n",
    "- Learn about Python and Jupyter Lab\n",
    "- Use Pandas to manipulate data\n",
    "- Analyze microgrid power data\n"
   ]
  },
  {
   "cell_type": "code",
   "execution_count": 31,
   "id": "44ec68a5-fdd2-439b-a13a-15249716796f",
   "metadata": {},
   "outputs": [
    {
     "name": "stdout",
     "output_type": "stream",
     "text": [
      "Warning: 'Time_hours' or 'Power_kW' columns not found. Using the first two columns instead.\n"
     ]
    },
    {
     "ename": "TypeError",
     "evalue": "unsupported operand type(s) for //: 'str' and 'int'",
     "output_type": "error",
     "traceback": [
      "\u001b[1;31m---------------------------------------------------------------------------\u001b[0m",
      "\u001b[1;31mTypeError\u001b[0m                                 Traceback (most recent call last)",
      "Cell \u001b[1;32mIn[31], line 4\u001b[0m\n\u001b[0;32m      2\u001b[0m \u001b[38;5;28;01mimport\u001b[39;00m \u001b[38;5;21;01mpandas\u001b[39;00m\n\u001b[0;32m      3\u001b[0m df_14 \u001b[38;5;241m=\u001b[39m pandas\u001b[38;5;241m.\u001b[39mread_csv(\u001b[38;5;124m'\u001b[39m\u001b[38;5;124mdata/power_load_data.csv\u001b[39m\u001b[38;5;124m'\u001b[39m)\n\u001b[1;32m----> 4\u001b[0m \u001b[43mplot_power_load\u001b[49m\u001b[43m(\u001b[49m\u001b[43mdf_14\u001b[49m\u001b[43m)\u001b[49m\n",
      "File \u001b[1;32m~\\OneDrive\\Documents\\GitHub\\se4003_fall_2024\\labs\\lab_1\\power_loads.py:87\u001b[0m, in \u001b[0;36mplot_power_load\u001b[1;34m(df, power_distribution)\u001b[0m\n\u001b[0;32m     84\u001b[0m power_data \u001b[38;5;241m=\u001b[39m df[power_column]\n\u001b[0;32m     86\u001b[0m \u001b[38;5;66;03m# Calculate the number of days based on the time data (each day is 24 hours)\u001b[39;00m\n\u001b[1;32m---> 87\u001b[0m num_days \u001b[38;5;241m=\u001b[39m \u001b[38;5;28mint\u001b[39m(\u001b[43mtime_data\u001b[49m\u001b[38;5;241;43m.\u001b[39;49m\u001b[43mmax\u001b[49m\u001b[43m(\u001b[49m\u001b[43m)\u001b[49m\u001b[43m \u001b[49m\u001b[38;5;241;43m/\u001b[39;49m\u001b[38;5;241;43m/\u001b[39;49m\u001b[43m \u001b[49m\u001b[38;5;241;43m24\u001b[39;49m) \u001b[38;5;241m+\u001b[39m \u001b[38;5;241m1\u001b[39m\n\u001b[0;32m     89\u001b[0m \u001b[38;5;66;03m# Use full weekday names if <= 7 days, otherwise use abbreviated weekday names\u001b[39;00m\n\u001b[0;32m     90\u001b[0m \u001b[38;5;28;01mif\u001b[39;00m num_days \u001b[38;5;241m<\u001b[39m\u001b[38;5;241m=\u001b[39m \u001b[38;5;241m7\u001b[39m:\n",
      "\u001b[1;31mTypeError\u001b[0m: unsupported operand type(s) for //: 'str' and 'int'"
     ]
    }
   ],
   "source": [
    "from power_loads import *\n",
    "import pandas\n",
    "df_14 = pandas.read_csv('data/constant.csv')\n",
    "plot_power_load(df_14)"
   ]
  },
  {
   "cell_type": "code",
   "execution_count": 27,
   "id": "8f45ee59-3992-4b87-be2c-80b96b8d8240",
   "metadata": {},
   "outputs": [
    {
     "name": "stdout",
     "output_type": "stream",
     "text": [
      "+---+-------+--------------------+----------+\n",
      "|   | index |     Time_hours     | Power_kW |\n",
      "+---+-------+--------------------+----------+\n",
      "| 0 | mean  | 167.95833333333334 |   50.0   |\n",
      "| 1 |  std  | 97.00687260876587  |   0.0    |\n",
      "| 2 |  min  |        0.0         |   50.0   |\n",
      "| 3 |  max  | 335.9166666666667  |   50.0   |\n",
      "| 4 | count |       4032.0       |  4032.0  |\n",
      "+---+-------+--------------------+----------+\n"
     ]
    }
   ],
   "source": [
    "import pandas\n",
    "from tabulate import tabulate\n",
    "\n",
    "# Sample data\n",
    "data = pandas.read_csv('data/constant_14days.csv')\n",
    "\n",
    "# Create a DataFrame\n",
    "df = pandas.DataFrame(data)\n",
    "\n",
    "# Compute statistics\n",
    "statistics = df.agg(['mean', 'std', 'min', 'max', 'count']).reset_index()\n",
    "\n",
    "# Display the statistics in a table format\n",
    "print(tabulate(statistics, headers='keys', tablefmt='pretty'))"
   ]
  },
  {
   "cell_type": "code",
   "execution_count": null,
   "id": "1721b802-5bb4-4fd8-9c48-68025c3c1906",
   "metadata": {},
   "outputs": [],
   "source": []
  }
 ],
 "metadata": {
  "kernelspec": {
   "display_name": "Python 3 (ipykernel)",
   "language": "python",
   "name": "python3"
  },
  "language_info": {
   "codemirror_mode": {
    "name": "ipython",
    "version": 3
   },
   "file_extension": ".py",
   "mimetype": "text/x-python",
   "name": "python",
   "nbconvert_exporter": "python",
   "pygments_lexer": "ipython3",
   "version": "3.13.0"
  }
 },
 "nbformat": 4,
 "nbformat_minor": 5
}
