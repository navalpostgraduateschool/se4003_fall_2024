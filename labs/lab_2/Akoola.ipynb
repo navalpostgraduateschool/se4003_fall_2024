{
 "cells": [
  {
   "cell_type": "markdown",
   "id": "ed9b1ebd-1836-4d2f-bb76-0ba12f608415",
   "metadata": {},
   "source": [
    "# Lab 03: Lasers to Kill Sharks\n",
    "This lab investigates the feasibility of designing a directed energy weapon (DEW, or a laser) to shoot down enemey drones in purpose of protecting friendly ground and naval forces.\n",
    "**Objectives**:\n",
    "- Determine likely drone threats that DEWs could defeat\n",
    "- Determine power load requirements for different engagement models\n",
    "- Analyze operational impacts such as shot count, recharge time, and breaking points for the system\n",
    "  \n",
    "*Rapid kill capability and high kill probability* is **critical** for an effective DEW employment against threat drone targets.\n"
   ]
  },
  {
   "cell_type": "code",
   "execution_count": null,
   "id": "92210c3b-d4dc-4e22-8be5-8df710317bbb",
   "metadata": {},
   "outputs": [],
   "source": []
  }
 ],
 "metadata": {
  "kernelspec": {
   "display_name": "Python 3 (ipykernel)",
   "language": "python",
   "name": "python3"
  },
  "language_info": {
   "codemirror_mode": {
    "name": "ipython",
    "version": 3
   },
   "file_extension": ".py",
   "mimetype": "text/x-python",
   "name": "python",
   "nbconvert_exporter": "python",
   "pygments_lexer": "ipython3",
   "version": "3.13.0"
  }
 },
 "nbformat": 4,
 "nbformat_minor": 5
}
