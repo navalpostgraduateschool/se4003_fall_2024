{
 "cells": [
  {
   "cell_type": "code",
   "execution_count": 1,
   "id": "eec0b71b-200d-43e3-a1e5-a86630210b3d",
   "metadata": {},
   "outputs": [],
   "source": [
    "import power_loads"
   ]
  },
  {
   "cell_type": "code",
   "execution_count": null,
   "id": "8cb31651-0610-4ee1-bddc-b5bd80660061",
   "metadata": {},
   "outputs": [],
   "source": []
  }
 ],
 "metadata": {
  "kernelspec": {
   "display_name": "Python 3 (ipykernel)",
   "language": "python",
   "name": "python3"
  },
  "language_info": {
   "codemirror_mode": {
    "name": "ipython",
    "version": 3
   },
   "file_extension": ".py",
   "mimetype": "text/x-python",
   "name": "python",
   "nbconvert_exporter": "python",
   "pygments_lexer": "ipython3",
   "version": "3.13.0"
  }
 },
 "nbformat": 4,
 "nbformat_minor": 5
}
